{
 "cells": [
  {
   "cell_type": "code",
   "execution_count": 26,
   "metadata": {
    "collapsed": false
   },
   "outputs": [],
   "source": [
    "import requests\n",
    "\n",
    "url = \"https://search.shopping.naver.com/search/all.nhn\"\n",
    "params = {\n",
    "    'query' : '코트',    \n",
    "}\n",
    "\n",
    "res = requests.get(url, params=params)"
   ]
  },
  {
   "cell_type": "code",
   "execution_count": 27,
   "metadata": {
    "collapsed": false
   },
   "outputs": [],
   "source": [
    "html = res.text"
   ]
  },
  {
   "cell_type": "code",
   "execution_count": 28,
   "metadata": {
    "collapsed": true
   },
   "outputs": [],
   "source": [
    "from bs4 import BeautifulSoup\n",
    "\n",
    "soup = BeautifulSoup(html, 'html.parser')"
   ]
  },
  {
   "cell_type": "code",
   "execution_count": 29,
   "metadata": {
    "collapsed": true
   },
   "outputs": [],
   "source": [
    "def trim(s): #어떤 문자열을 받으면\n",
    "    return ' '.join(s.split())#그 문자열을 화이트스페이스 단위로 나누고 다시 하나의 스페이스로 합치겠다."
   ]
  },
  {
   "cell_type": "code",
   "execution_count": 69,
   "metadata": {
    "collapsed": false
   },
   "outputs": [
    {
     "name": "stdout",
     "output_type": "stream",
     "text": [
      "트렘블 봄 싱글 코트 87000 https://shopping-phinf.pstatic.net/main_1220400/12204005438.1.jpg?type=f140\n",
      "코오롱스포츠 ) 웨더코트, 트렌치, 사파리 332500 https://shopping-phinf.pstatic.net/main_1353370/13533703560.jpg?type=f140\n",
      "35288 배색 프로섬 오버 더블코트 134000 https://shopping-phinf.pstatic.net/main_1364008/13640080546.jpg?type=f140\n",
      "2018 봄 신상 보카시 그레이 하프 코트 85000 https://shopping-phinf.pstatic.net/main_8005685/80056857979.jpg?type=f140\n",
      "리스트 점퍼형 트랜치코트TWWBYG70060 50000 https://shopping-phinf.pstatic.net/main_1399105/13991052459.20180408220148.jpg?type=f140\n",
      "톰보이 TOMBOY 9108211999 베이직맥코트 116610 https://shopping-phinf.pstatic.net/main_1394714/13947146628.20180403223858.jpg?type=f140\n",
      "리스트 더블브레스트 트랜치코트TWWBYH50070 59000 https://shopping-phinf.pstatic.net/main_1391096/13910964313.20180330152901.jpg?type=f140\n",
      "남자 봄 트렌치 코트 89900 https://shopping-phinf.pstatic.net/main_8004645/80046453557.jpg?type=f140\n",
      "리스트 루즈핏 트랜치코트 TWWBYI50010 71460 https://shopping-phinf.pstatic.net/main_1373554/13735546477.20180320110238.jpg?type=f140\n",
      "시슬리 루즈핏 트렌치코트 SACTA1641 99000 https://shopping-phinf.pstatic.net/main_1388119/13881198554.20180327150744.jpg?type=f140\n",
      "리스트 쉬폰 트렌치코트 TWWBYI50010 99000 https://shopping-phinf.pstatic.net/main_8015633/80156334774.jpg?type=f140\n",
      "앳코너 17년 S/S 얇은면소재의 트렌치코트 ATTR7B101 53700 https://shopping-phinf.pstatic.net/main_1387410/13874106858.20180405095038.jpg?type=f140\n",
      "2018 봄 가을 백화점 오버핏 롱 트렌치코트 85000 https://shopping-phinf.pstatic.net/main_8000093/80000935846.jpg?type=f140\n",
      "기획특가 봄봄 자켓 17600 https://shopping-phinf.pstatic.net/main_1378034/13780342232.20180318114243.jpg?type=f140\n",
      "루즈핏 린넨 트렌치 코트 94800 https://shopping-phinf.pstatic.net/main_8017754/80177543507.jpg?type=f140\n",
      "[GEORGES RECH] 조르쥬 레쉬 트렌치 코트 93100 https://shopping-phinf.pstatic.net/main_1358454/13584542777.jpg?type=f140\n",
      "스테파니 체크퀸즈롱바바리 A18JK8207 29000 https://shopping-phinf.pstatic.net/main_1399109/13991090225.20180408222004.jpg?type=f140\n",
      "원단 좋은데 핏까지 바바리 트렌치 코트 37340 https://shopping-phinf.pstatic.net/main_1341402/13414028726.20180128154931.jpg?type=f140\n",
      "스웨이드 트렌치코트 4color 41000 https://shopping-phinf.pstatic.net/main_8003780/80037801073.jpg?type=f140\n",
      "올앤선드리 앤조이트렌치코트 A6M3N704 50000 https://shopping-phinf.pstatic.net/main_1394704/13947043225.20180403214856.jpg?type=f140\n",
      "리스트 너풀 폴리트랜치 TWBY70030 50000 https://shopping-phinf.pstatic.net/main_1381200/13812008470.20180321131200.jpg?type=f140\n",
      "[바닐라비/머스트비/윤호문희] 방송 HIT 상품 모음전! 8820 https://shopping-phinf.pstatic.net//20180407_7/a69db71d-475d-46df-a068-b6777476117c.jpg?type=ofullfill_200_200\n",
      "슬림핏 트렌치 바바리코트 79200 https://shopping-phinf.pstatic.net/main_1359768/13597685350.20180222112951.jpg?type=f140\n",
      "[롯데백화점][JJ지고트] 데일리로 입기 좋은 꿀템만 가득~쇼핑 가즈아!원피스/블라우스/자켓 外_471195119 45640 https://shopping-phinf.pstatic.net//20180404_2/ac7d994b-f3a7-4ecc-8c2c-5e4418b74b9f.jpg?type=ofullfill_200_200\n",
      "지컷 뒷허리셔링트렌치코트 7228216501 125300 https://shopping-phinf.pstatic.net/main_1344199/13441993866.20180213112115.jpg?type=f140\n",
      "써스데이아일랜드 밑단 레이스 레이어링 트렌치 코트T182MCT133 293670 https://shopping-phinf.pstatic.net/main_1354735/13547350655.20180305104226.jpg?type=f140\n",
      "ZOOC Z181MSI102/박시한 루즈핏 멋스런트렌치코트 190030 https://shopping-phinf.pstatic.net/main_1356120/13561205590.20180226110112.jpg?type=f140\n",
      "리스트 럽트렌치코트 TWWBYI50020 118150 https://shopping-phinf.pstatic.net/main_1352840/13528407934.20180226102633.jpg?type=f140\n",
      "지센 원버튼 더블 트렌치코트LCCAH335 79000 https://shopping-phinf.pstatic.net/main_1383849/13838493906.20180322153837.jpg?type=f140\n",
      "더틸버리 루즈핏 단추트렌치코트 TI4N0TC51 82860 https://shopping-phinf.pstatic.net/main_1392266/13922668765.20180331185213.jpg?type=f140\n",
      "나이스크랍 루즈핏트랜치코트 N181XSI003 158240 https://shopping-phinf.pstatic.net/main_1338134/13381348499.20180302113200.jpg?type=f140\n",
      "퍼프 트렌치코트 C170105016-52 49600 https://shopping-phinf.pstatic.net/main_1399118/13991184783.20180408230034.jpg?type=f140\n",
      "여성 트렌치코트 39900 https://shopping-phinf.pstatic.net/main_8010660/80106600127.jpg?type=f140\n",
      "톰보이 TOMBOY 9107211999 오버핏소매스트링썸머코트 116610 https://shopping-phinf.pstatic.net/main_1405079/14050795954.20180416184238.jpg?type=f140\n",
      "마지아룩 필리드 바바리 77000 https://shopping-phinf.pstatic.net/main_1394703/13947035685.20180403214428.jpg?type=f140\n",
      "GGPX 캐주얼무드 더블 트렌티코트 GIA3BB691F 43660 https://shopping-phinf.pstatic.net/main_1360424/13604249641.20180224112300.jpg?type=f140\n",
      "모코 바바리 코트 71000 https://shopping-phinf.pstatic.net/main_1393047/13930478942.20180401185351.jpg?type=f140\n",
      "써스데이아일랜드 코쿤형 숏트렌치코트 T172MCT131W 87600 https://shopping-phinf.pstatic.net/main_8013509/80135095673.1.jpg?type=f140\n",
      "써스데이아일랜드 숏 더블트렌치 코트 T172MCT131 87600 https://shopping-phinf.pstatic.net/main_1376931/13769313604.20180316145708.jpg?type=f140\n",
      "레노마레이디스 바람막이 데일리 트렌치 코트 C732BB010 50000 https://shopping-phinf.pstatic.net/main_1356871/13568716589.20180320104957.jpg?type=f140\n",
      "앤드지바이지오지아 S/S 트렌치코트 6종 92070 https://shopping-phinf.pstatic.net/main_1393652/13936528775.20180411064854.jpg?type=f140\n",
      "[블링샵] 패션24시30%쿠폰 블라우스/스커트/원피스 4900 https://shopping-phinf.pstatic.net//20180412_13/c5bf3d41-5573-43bc-aaf3-ff8b3f771403.jpg?type=ofullfill_200_200\n",
      "보브 베이직 체크 코트 7117416912 303543 https://shopping-phinf.pstatic.net/main_1354206/13542064255.20180212105440.jpg?type=f140\n",
      "보니알렉스 여름린넨자켓/봄원피스/팬츠/블라우스 9550 https://shopping-phinf.pstatic.net//20180416_7/19633653-ae83-418b-b300-4fa45c0816c9.jpg?type=ofullfill_200_200\n"
     ]
    }
   ],
   "source": [
    "for item_tag in soup.select('#_search_list ._itemSection'):\n",
    "    name = trim(item_tag.select('a.tit')[0].text)\n",
    "    price = trim(item_tag.select('.price .num')[0].text).replace(',','') #,를 빈칸으로 바꾼다\n",
    "    img_url = item_tag.select('img[data-original]')[0]['data-original'] #img에 data-original태그를 찾아서 data-original속성을 가지고온다\n",
    "    print(name, price, img_url)"
   ]
  },
  {
   "cell_type": "code",
   "execution_count": null,
   "metadata": {
    "collapsed": true
   },
   "outputs": [],
   "source": []
  }
 ],
 "metadata": {
  "kernelspec": {
   "display_name": "Python 3",
   "language": "python",
   "name": "python3"
  },
  "language_info": {
   "codemirror_mode": {
    "name": "ipython",
    "version": 3
   },
   "file_extension": ".py",
   "mimetype": "text/x-python",
   "name": "python",
   "nbconvert_exporter": "python",
   "pygments_lexer": "ipython3",
   "version": "3.6.0"
  }
 },
 "nbformat": 4,
 "nbformat_minor": 2
}
